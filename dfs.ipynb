{
 "nbformat": 4,
 "nbformat_minor": 2,
 "metadata": {
  "language_info": {
   "name": "python",
   "codemirror_mode": {
    "name": "ipython",
    "version": 3
   },
   "version": "3.8.2-final"
  },
  "orig_nbformat": 2,
  "file_extension": ".py",
  "mimetype": "text/x-python",
  "name": "python",
  "npconvert_exporter": "python",
  "pygments_lexer": "ipython3",
  "version": 3,
  "kernelspec": {
   "name": "python38232bit32c6f25032f646fd9bfc2e2bd09111f8",
   "display_name": "Python 3.8.2 32-bit"
  }
 },
 "cells": [
  {
   "cell_type": "code",
   "execution_count": 1,
   "metadata": {},
   "outputs": [],
   "source": [
    "#Universidad Autónoma de Chihuahua\n",
    "# Facultad de Ingeniería\n",
    "# Sistemas de Búsqueda y Razonamiento \n",
    "# Equipo: \n",
    "#   Carlos García\n",
    "#   Alejandro Aguirre\n",
    "#   Ericka Bermúdez\n",
    "\n",
    "# referencias: https://www.geeksforgeeks.org/depth-first-search-or-dfs-for-a-graph/"
   ]
  },
  {
   "cell_type": "code",
   "execution_count": 2,
   "metadata": {},
   "outputs": [],
   "source": [
    "class Nodo:\n",
    "    def _init_(self, estado, padre):\n",
    "        self.estado = estado\n",
    "        self.padre = padre\n",
    "\n",
    "    def _repr_(self):\n",
    "        return self.estado"
   ]
  },
  {
   "cell_type": "code",
   "execution_count": 3,
   "metadata": {},
   "outputs": [],
   "source": [
    "def estaDentro(estado, lista):\n",
    "    respuesta = False\n",
    "    bandera = -1\n",
    "    index = 0\n",
    "    for nodo in lista:\n",
    "        if nodo.estado == estado:\n",
    "            bandera = True\n",
    "            bandera = index\n",
    "        index = index + 1\n",
    "    return (respuesta, bandera)"
   ]
  },
  {
   "cell_type": "code",
   "execution_count": 4,
   "metadata": {},
   "outputs": [],
   "source": [
    "def obtenerHijos(estado, grafo):\n",
    "    return grafo[estado]\n"
   ]
  },
  {
   "cell_type": "code",
   "execution_count": 5,
   "metadata": {},
   "outputs": [],
   "source": [
    "def siguiente(estadosAbiertos):\n",
    "    totalEstados = len(estadosAbiertos)\n",
    "    if totalEstados == 0:\n",
    "        siguiente = ' '\n",
    "        padreSiguiente = ' '\n",
    "    else:\n",
    "        index = totalEstados-1\n",
    "        siguiente = estadosAbiertos[index].estado\n",
    "        padreSiguiente = estadosAbiertos[index].padre\n",
    "        del estadosAbiertos[index]\n",
    "    return (estadosAbiertos, siguiente, padreSiguiente)"
   ]
  },
  {
   "cell_type": "code",
   "execution_count": 6,
   "metadata": {},
   "outputs": [],
   "source": [
    "def expandir(estadoActual, padreActual, estadosAbiertos, estadosCerrados, grafo):\n",
    "    hijos = obtenerHijos(estadoActual, grafo)\n",
    "    for hijo in hijos:\n",
    "        abierto,_ = estaDentro(hijo, estadosAbiertos)\n",
    "        cerrado,_ = estaDentro(hijo, estadosCerrados)\n",
    "        if not abierto and not cerrado:\n",
    "            estadosAbiertos.append(Nodo(hijo, estadoActual))\n",
    "    estadosCerrados.append(Nodo(estadoActual,padreActual))\n",
    "    return (estadosAbiertos, estadosCerrados)"
   ]
  },
  {
   "cell_type": "code",
   "execution_count": 7,
   "metadata": {},
   "outputs": [],
   "source": [
    "def algPrimProfundidad(estadoMeta, estadodoInicio, grafo):\n",
    "    estadosAbiertos = []\n",
    "    estadosCerrados = []\n",
    "    estadoActual = estadoInicio\n",
    "    padreActual = estadoInicio\n",
    "    listo = False\n",
    "    while not listo:\n",
    "        if estadoActual == ' ': \n",
    "            solucion = []\n",
    "            listo = True\n",
    "        elif estadoActual == estadoMeta:\n",
    "            estadosCerrados.append(Nodo(estadoActual, padreActual))\n",
    "            solucion = estadosCerrados\n",
    "            listo = True\n",
    "        else:\n",
    "            estadosAbiertos, estadosCerrados = expandir(estadoActual, padreActual, estadosAbiertos, estadosCerrados, grafo)\n",
    "            estadosAbiertos, estadoActual, padreActual = siguiente(estadosAbiertos)\n",
    "    return solucion"
   ]
  },
  {
   "cell_type": "code",
   "execution_count": 8,
   "metadata": {},
   "outputs": [
    {
     "data": {
      "text/plain": "{'A': ['B', 'C', 'D', 'E'],\n 'B': ['A', 'C', 'H'],\n 'C': ['B', 'D', 'G', 'H'],\n 'D': ['A', 'E', 'F', 'C', 'G'],\n 'E': ['A', 'D', 'F'],\n 'F': ['E', 'D', 'C', 'G'],\n 'G': ['F', 'D', 'C'],\n 'H': ['C', 'B']}"
     },
     "execution_count": 8,
     "metadata": {},
     "output_type": "execute_result"
    }
   ],
   "source": [
    "grafo = {\n",
    "        'A':['B','C','D', 'E'], \n",
    "        'B':['A','C','H'], \n",
    "        'C':['B','D','G','H'],\n",
    "        'D':['A','E','F', 'C', 'G'], \n",
    "        'E':['A','D','F'], \n",
    "        'F':['E','D', 'C', 'G'],\n",
    "        'G':['F', 'D', 'C'],\n",
    "        'H':['C', 'B']\n",
    "        }\n",
    "\n",
    "grafo"
   ]
  },
  {
   "cell_type": "code",
   "execution_count": 9,
   "metadata": {},
   "outputs": [],
   "source": [
    "inicio = 'G'\n",
    "final = 'B'"
   ]
  },
  {
   "cell_type": "code",
   "execution_count": 10,
   "metadata": {},
   "outputs": [],
   "source": [
    "estadoInicio = grafo[inicio]\n",
    "estadoMeta = grafo[final]"
   ]
  },
  {
   "cell_type": "code",
   "execution_count": 11,
   "metadata": {},
   "outputs": [
    {
     "ename": "TypeError",
     "evalue": "unhashable type: 'list'",
     "output_type": "error",
     "traceback": [
      "\u001b[1;31m---------------------------------------------------------------------------\u001b[0m",
      "\u001b[1;31mTypeError\u001b[0m                                 Traceback (most recent call last)",
      "\u001b[1;32m<ipython-input-11-2fbd049285ee>\u001b[0m in \u001b[0;36m<module>\u001b[1;34m\u001b[0m\n\u001b[1;32m----> 1\u001b[1;33m \u001b[0mlistaEstadosCerrados\u001b[0m \u001b[1;33m=\u001b[0m \u001b[0malgPrimProfundidad\u001b[0m\u001b[1;33m(\u001b[0m\u001b[0mestadoMeta\u001b[0m\u001b[1;33m,\u001b[0m \u001b[0mestadoInicio\u001b[0m\u001b[1;33m,\u001b[0m \u001b[0mgrafo\u001b[0m\u001b[1;33m)\u001b[0m\u001b[1;33m\u001b[0m\u001b[1;33m\u001b[0m\u001b[0m\n\u001b[0m",
      "\u001b[1;32m<ipython-input-7-af4620177b74>\u001b[0m in \u001b[0;36malgPrimProfundidad\u001b[1;34m(estadoMeta, estadodoInicio, grafo)\u001b[0m\n\u001b[0;32m     14\u001b[0m             \u001b[0mlisto\u001b[0m \u001b[1;33m=\u001b[0m \u001b[1;32mTrue\u001b[0m\u001b[1;33m\u001b[0m\u001b[1;33m\u001b[0m\u001b[0m\n\u001b[0;32m     15\u001b[0m         \u001b[1;32melse\u001b[0m\u001b[1;33m:\u001b[0m\u001b[1;33m\u001b[0m\u001b[1;33m\u001b[0m\u001b[0m\n\u001b[1;32m---> 16\u001b[1;33m             \u001b[0mestadosAbiertos\u001b[0m\u001b[1;33m,\u001b[0m \u001b[0mestadosCerrados\u001b[0m \u001b[1;33m=\u001b[0m \u001b[0mexpandir\u001b[0m\u001b[1;33m(\u001b[0m\u001b[0mestadoActual\u001b[0m\u001b[1;33m,\u001b[0m \u001b[0mpadreActual\u001b[0m\u001b[1;33m,\u001b[0m \u001b[0mestadosAbiertos\u001b[0m\u001b[1;33m,\u001b[0m \u001b[0mestadosCerrados\u001b[0m\u001b[1;33m,\u001b[0m \u001b[0mgrafo\u001b[0m\u001b[1;33m)\u001b[0m\u001b[1;33m\u001b[0m\u001b[1;33m\u001b[0m\u001b[0m\n\u001b[0m\u001b[0;32m     17\u001b[0m             \u001b[0mestadosAbiertos\u001b[0m\u001b[1;33m,\u001b[0m \u001b[0mestadoActual\u001b[0m\u001b[1;33m,\u001b[0m \u001b[0mpadreActual\u001b[0m \u001b[1;33m=\u001b[0m \u001b[0msiguiente\u001b[0m\u001b[1;33m(\u001b[0m\u001b[0mestadosAbiertos\u001b[0m\u001b[1;33m)\u001b[0m\u001b[1;33m\u001b[0m\u001b[1;33m\u001b[0m\u001b[0m\n\u001b[0;32m     18\u001b[0m     \u001b[1;32mreturn\u001b[0m \u001b[0msolucion\u001b[0m\u001b[1;33m\u001b[0m\u001b[1;33m\u001b[0m\u001b[0m\n",
      "\u001b[1;32m<ipython-input-6-ea5707ac6525>\u001b[0m in \u001b[0;36mexpandir\u001b[1;34m(estadoActual, padreActual, estadosAbiertos, estadosCerrados, grafo)\u001b[0m\n\u001b[0;32m      1\u001b[0m \u001b[1;32mdef\u001b[0m \u001b[0mexpandir\u001b[0m\u001b[1;33m(\u001b[0m\u001b[0mestadoActual\u001b[0m\u001b[1;33m,\u001b[0m \u001b[0mpadreActual\u001b[0m\u001b[1;33m,\u001b[0m \u001b[0mestadosAbiertos\u001b[0m\u001b[1;33m,\u001b[0m \u001b[0mestadosCerrados\u001b[0m\u001b[1;33m,\u001b[0m \u001b[0mgrafo\u001b[0m\u001b[1;33m)\u001b[0m\u001b[1;33m:\u001b[0m\u001b[1;33m\u001b[0m\u001b[1;33m\u001b[0m\u001b[0m\n\u001b[1;32m----> 2\u001b[1;33m     \u001b[0mhijos\u001b[0m \u001b[1;33m=\u001b[0m \u001b[0mobtenerHijos\u001b[0m\u001b[1;33m(\u001b[0m\u001b[0mestadoActual\u001b[0m\u001b[1;33m,\u001b[0m \u001b[0mgrafo\u001b[0m\u001b[1;33m)\u001b[0m\u001b[1;33m\u001b[0m\u001b[1;33m\u001b[0m\u001b[0m\n\u001b[0m\u001b[0;32m      3\u001b[0m     \u001b[1;32mfor\u001b[0m \u001b[0mhijo\u001b[0m \u001b[1;32min\u001b[0m \u001b[0mhijos\u001b[0m\u001b[1;33m:\u001b[0m\u001b[1;33m\u001b[0m\u001b[1;33m\u001b[0m\u001b[0m\n\u001b[0;32m      4\u001b[0m         \u001b[0mabierto\u001b[0m\u001b[1;33m,\u001b[0m\u001b[0m_\u001b[0m \u001b[1;33m=\u001b[0m \u001b[0mestaDentro\u001b[0m\u001b[1;33m(\u001b[0m\u001b[0mhijo\u001b[0m\u001b[1;33m,\u001b[0m \u001b[0mestadosAbiertos\u001b[0m\u001b[1;33m)\u001b[0m\u001b[1;33m\u001b[0m\u001b[1;33m\u001b[0m\u001b[0m\n\u001b[0;32m      5\u001b[0m         \u001b[0mcerrado\u001b[0m\u001b[1;33m,\u001b[0m\u001b[0m_\u001b[0m \u001b[1;33m=\u001b[0m \u001b[0mestaDentro\u001b[0m\u001b[1;33m(\u001b[0m\u001b[0mhijo\u001b[0m\u001b[1;33m,\u001b[0m \u001b[0mestadosCerrados\u001b[0m\u001b[1;33m)\u001b[0m\u001b[1;33m\u001b[0m\u001b[1;33m\u001b[0m\u001b[0m\n",
      "\u001b[1;32m<ipython-input-4-5a08f484ca66>\u001b[0m in \u001b[0;36mobtenerHijos\u001b[1;34m(estado, grafo)\u001b[0m\n\u001b[0;32m      1\u001b[0m \u001b[1;32mdef\u001b[0m \u001b[0mobtenerHijos\u001b[0m\u001b[1;33m(\u001b[0m\u001b[0mestado\u001b[0m\u001b[1;33m,\u001b[0m \u001b[0mgrafo\u001b[0m\u001b[1;33m)\u001b[0m\u001b[1;33m:\u001b[0m\u001b[1;33m\u001b[0m\u001b[1;33m\u001b[0m\u001b[0m\n\u001b[1;32m----> 2\u001b[1;33m     \u001b[1;32mreturn\u001b[0m \u001b[0mgrafo\u001b[0m\u001b[1;33m[\u001b[0m\u001b[0mestado\u001b[0m\u001b[1;33m]\u001b[0m\u001b[1;33m\u001b[0m\u001b[1;33m\u001b[0m\u001b[0m\n\u001b[0m",
      "\u001b[1;31mTypeError\u001b[0m: unhashable type: 'list'"
     ]
    }
   ],
   "source": [
    "listaEstadosCerrados = algPrimProfundidad(estadoMeta, estadoInicio, grafo)"
   ]
  },
  {
   "cell_type": "code",
   "execution_count": null,
   "metadata": {},
   "outputs": [],
   "source": []
  }
 ]
}