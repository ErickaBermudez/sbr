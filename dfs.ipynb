{
 "nbformat": 4,
 "nbformat_minor": 2,
 "metadata": {
  "language_info": {
   "name": "python",
   "codemirror_mode": {
    "name": "ipython",
    "version": 3
   },
   "version": "3.8.2-final"
  },
  "orig_nbformat": 2,
  "file_extension": ".py",
  "mimetype": "text/x-python",
  "name": "python",
  "npconvert_exporter": "python",
  "pygments_lexer": "ipython3",
  "version": 3,
  "kernelspec": {
   "name": "python38232bit32c6f25032f646fd9bfc2e2bd09111f8",
   "display_name": "Python 3.8.2 32-bit"
  }
 },
 "cells": [
  {
   "cell_type": "code",
   "execution_count": null,
   "metadata": {},
   "outputs": [],
   "source": [
    "#Universidad Autónoma de Chihuahua\n",
    "# Facultad de Ingeniería\n",
    "# Sistemas de Búsqueda y Razonamiento \n",
    "# Equipo: \n",
    "#   Carlos García\n",
    "#   Alejandro Aguirre\n",
    "#   Ericka Bermúdez\n",
    "\n",
    "# referencias: https://www.geeksforgeeks.org/depth-first-search-or-dfs-for-a-graph/"
   ]
  },
  {
   "cell_type": "code",
   "execution_count": null,
   "metadata": {},
   "outputs": [],
   "source": [
    "class Nodo:\n",
    "    def _init_(self, estado, padre):\n",
    "        self.estado = estado\n",
    "        self.padre = padre\n",
    "\n",
    "    def _repr_(self):\n",
    "        return self.estado"
   ]
  },
  {
   "cell_type": "code",
   "execution_count": null,
   "metadata": {},
   "outputs": [],
   "source": [
    "def estaDentro(estado, lista):\n",
    "    respuesta = False\n",
    "    bandera = -1\n",
    "    index = 0\n",
    "    for nodo in lista:\n",
    "        if nodo.estado == estado:\n",
    "            bandera = True\n",
    "            bandera = index\n",
    "        index = index + 1\n",
    "    return (respuesta, bandera)"
   ]
  },
  {
   "cell_type": "code",
   "execution_count": null,
   "metadata": {},
   "outputs": [],
   "source": [
    "def siguiente(estadosAbiertos):\n",
    "    totalEstados = len(estadosAbiertos)\n",
    "    if totalEstados == 0:\n",
    "        siguiente = ' '\n",
    "        padreSiguiente = ' '\n",
    "    else:\n",
    "        index = totalEstados-1\n",
    "        siguiente = estadosAbiertos[index].estado\n",
    "        padreSiguiente = estadosAbiertos[index].padre\n",
    "        del estadosAbiertos[index]\n",
    "    return (estadosAbiertos, siguiente, padreSiguiente)"
   ]
  },
  {
   "cell_type": "code",
   "execution_count": null,
   "metadata": {},
   "outputs": [],
   "source": [
    "def expandir(estadoActual, padreActual, estadosAbiertos, estadosCerrados, grafo):\n",
    "    hijos = obtenerHijos(estadoActual, grafo)\n",
    "    for hijo in hijos:\n",
    "        abierto,_ = estaDentro(hijo, estadosAbiertos)\n",
    "        cerrado,_ = estaDentro(hijo, estadosCerrados)\n",
    "        if not abierto and not cerrado:\n",
    "            estadosAbiertos.append(Nodo(hijo, estadoActual))\n",
    "    estadosCerrados.append(Nodo(estadoActual,padreActual))\n",
    "    return (estadosAbiertos, estadosCerrados)"
   ]
  },
  {
   "cell_type": "code",
   "execution_count": null,
   "metadata": {},
   "outputs": [],
   "source": [
    "def algPrimProfundidad(estadoMeta, estadodoInicio, grafo):\n",
    "    estadosAbiertos = []\n",
    "    estadosCerrados = []\n",
    "    estadoActual = estadoInicio\n",
    "    padreActual = estadoInicio\n",
    "    listo = False\n",
    "    while not listo:\n",
    "        if estadoActual == ' ': \n",
    "            solucion = []\n",
    "            listo = True\n",
    "        elif estadoActual == estadoMeta:\n",
    "            estadosCerrados.append(Nodo(estadoActual, padreActual))\n",
    "            solucion = estadosCerrados\n",
    "            listo = True\n",
    "        else:\n",
    "            estadosAbiertos, estadosCerrados = expandir(estadoActual, padreActual, estadosAbiertos, estadosCerrados, grafo)\n",
    "            estadosAbiertos, estadoActual, padreActual = siguiente(estadosAbiertos)\n",
    "    return solucion"
   ]
  },
  {
   "cell_type": "code",
   "execution_count": null,
   "metadata": {},
   "outputs": [],
   "source": [
    "grafo = {\n",
    "        'A':['B','C','D', 'E'], \n",
    "        'B':['A','C','H'], \n",
    "        'C':['B','D','G','H'],\n",
    "        'D':['A','E','F', 'C', 'G'], \n",
    "        'E':['A','D','F'], \n",
    "        'F':['E','D', 'C', 'G'],\n",
    "        'G':['F', 'D', 'C'],\n",
    "        'H':['C', 'B']\n",
    "        }\n",
    "\n",
    "grafo"
   ]
  },
  {
   "cell_type": "code",
   "execution_count": null,
   "metadata": {},
   "outputs": [],
   "source": [
    "inicio = 'G'\n",
    "final = 'B'"
   ]
  },
  {
   "cell_type": "code",
   "execution_count": null,
   "metadata": {},
   "outputs": [],
   "source": [
    "estadoInicio = grafo[inicio]\n",
    "estadoMeta = grafo[final]"
   ]
  },
  {
   "cell_type": "code",
   "execution_count": null,
   "metadata": {},
   "outputs": [],
   "source": [
    "listaEstadosCerrados = algPrimProfundidad(estadoMeta, estadoInicio, grafo)"
   ]
  },
  {
   "cell_type": "code",
   "execution_count": null,
   "metadata": {},
   "outputs": [],
   "source": []
  }
 ]
}