{
 "nbformat": 4,
 "nbformat_minor": 2,
 "metadata": {
  "language_info": {
   "name": "python",
   "codemirror_mode": {
    "name": "ipython",
    "version": 3
   },
   "version": "3.8.2-final"
  },
  "orig_nbformat": 2,
  "file_extension": ".py",
  "mimetype": "text/x-python",
  "name": "python",
  "npconvert_exporter": "python",
  "pygments_lexer": "ipython3",
  "version": 3,
  "kernelspec": {
   "name": "python38232bit32c6f25032f646fd9bfc2e2bd09111f8",
   "display_name": "Python 3.8.2 32-bit"
  }
 },
 "cells": [
  {
   "cell_type": "code",
   "execution_count": 6,
   "metadata": {},
   "outputs": [],
   "source": [
    "#Universidad Autónoma de Chihuahua\n",
    "# Facultad de Ingeniería\n",
    "# Sistemas de Búsqueda y Razonamiento \n",
    "# Equipo: \n",
    "#   Carlos García\n",
    "#   Alejandro Aguirre\n",
    "#   Ericka Bermúdez"
   ]
  }
 ]
}