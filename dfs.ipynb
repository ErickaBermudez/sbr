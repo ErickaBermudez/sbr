{
 "nbformat": 4,
 "nbformat_minor": 2,
 "metadata": {
  "language_info": {
   "name": "python",
   "codemirror_mode": {
    "name": "ipython",
    "version": 3
   },
   "version": "3.8.2-final"
  },
  "orig_nbformat": 2,
  "file_extension": ".py",
  "mimetype": "text/x-python",
  "name": "python",
  "npconvert_exporter": "python",
  "pygments_lexer": "ipython3",
  "version": 3,
  "kernelspec": {
   "name": "python38232bit32c6f25032f646fd9bfc2e2bd09111f8",
   "display_name": "Python 3.8.2 32-bit"
  }
 },
 "cells": [
  {
   "cell_type": "code",
   "execution_count": 1,
   "metadata": {},
   "outputs": [],
   "source": [
    "#Universidad Autónoma de Chihuahua\n",
    "# Facultad de Ingeniería\n",
    "# Sistemas de Búsqueda y Razonamiento \n",
    "# Equipo: \n",
    "#   Carlos García\n",
    "#   Alejandro Aguirre\n",
    "#   Ericka Bermúdez\n",
    "\n",
    "# referencias: https://www.geeksforgeeks.org/depth-first-search-or-dfs-for-a-graph/"
   ]
  },
  {
   "cell_type": "code",
   "execution_count": 2,
   "metadata": {},
   "outputs": [],
   "source": [
    "class Nodo:\n",
    "    def _init_(self, edo, padre):\n",
    "        self.edo = edo\n",
    "        self.padre = padre\n",
    "\n",
    "    def _repr_(self):\n",
    "        return self.edo"
   ]
  },
  {
   "cell_type": "code",
   "execution_count": 3,
   "metadata": {},
   "outputs": [
    {
     "data": {
      "text/plain": "{'A': ['B', 'C', 'D', 'E'],\n 'B': ['A', 'C', 'H'],\n 'C': ['B', 'D', 'G', 'H'],\n 'D': ['A', 'E', 'F', 'C', 'G'],\n 'E': ['A', 'D', 'F'],\n 'F': ['E', 'D', 'C', 'G'],\n 'G': ['F', 'D', 'C'],\n 'H': ['C', 'B']}"
     },
     "execution_count": 3,
     "metadata": {},
     "output_type": "execute_result"
    }
   ],
   "source": [
    "grafo = {\n",
    "        'A':['B','C','D', 'E'], \n",
    "        'B':['A','C','H'], \n",
    "        'C':['B','D','G','H'],\n",
    "        'D':['A','E','F', 'C', 'G'], \n",
    "        'E':['A','D','F'], \n",
    "        'F':['E','D', 'C', 'G'],\n",
    "        'G':['F', 'D', 'C'],\n",
    "        'H':['C', 'B']\n",
    "        }\n",
    "\n",
    "grafo"
   ]
  },
  {
   "cell_type": "code",
   "execution_count": 4,
   "metadata": {},
   "outputs": [],
   "source": [
    "inicio = 'G'\n",
    "final = 'B'"
   ]
  },
  {
   "cell_type": "code",
   "execution_count": 6,
   "metadata": {},
   "outputs": [],
   "source": [
    "estadoInicio = grafo[inicio]\n",
    "estadoMeta = grafo[final]"
   ]
  },
  {
   "cell_type": "code",
   "execution_count": null,
   "metadata": {},
   "outputs": [],
   "source": []
  }
 ]
}