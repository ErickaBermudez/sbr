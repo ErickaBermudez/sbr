{
 "nbformat": 4,
 "nbformat_minor": 2,
 "metadata": {
  "language_info": {
   "name": "python",
   "codemirror_mode": {
    "name": "ipython",
    "version": 3
   },
   "version": "3.8.2-final"
  },
  "orig_nbformat": 2,
  "file_extension": ".py",
  "mimetype": "text/x-python",
  "name": "python",
  "npconvert_exporter": "python",
  "pygments_lexer": "ipython3",
  "version": 3,
  "kernelspec": {
   "name": "python38232bit32c6f25032f646fd9bfc2e2bd09111f8",
   "display_name": "Python 3.8.2 32-bit"
  }
 },
 "cells": [
  {
   "cell_type": "code",
   "execution_count": 1,
   "metadata": {},
   "outputs": [],
   "source": [
    "#Universidad Autónoma de Chihuahua\n",
    "# Facultad de Ingeniería\n",
    "# Sistemas de Búsqueda y Razonamiento \n",
    "# Equipo: \n",
    "#   Carlos García\n",
    "#   Alejandro Aguirre\n",
    "#   Ericka Bermúdez\n",
    "\n",
    "# referencias: https://www.educative.io/edpresso/how-to-implement-depth-first-search-in-python"
   ]
  },
  {
   "cell_type": "code",
   "execution_count": 2,
   "metadata": {},
   "outputs": [],
   "source": [
    "graph = {\n",
    "        'A':['E','D','C', 'B'], \n",
    "        'B':['H','C','A'], \n",
    "        'C':['H','G','D','B','A'],\n",
    "        'D':['G','F','E', 'C', 'A'], \n",
    "        'E':['F','D','A'], \n",
    "        'F':['G','E', 'D', 'C'],\n",
    "        'G':['F', 'C'],\n",
    "        'H':['C', 'B']\n",
    "        }"
   ]
  },
  {
   "cell_type": "code",
   "execution_count": 3,
   "metadata": {},
   "outputs": [],
   "source": [
    "visited = [] \n",
    "queue = []\n",
    "parents = []"
   ]
  },
  {
   "cell_type": "code",
   "execution_count": 5,
   "metadata": {},
   "outputs": [],
   "source": [
    "def subt(queue, visited): \n",
    "    for item in queue: \n",
    "        for item2 in visited: \n",
    "            if item == item2:\n",
    "                queue.remove(item)\n",
    "    return queue"
   ]
  },
  {
   "cell_type": "code",
   "execution_count": 4,
   "metadata": {},
   "outputs": [],
   "source": [
    "def dfs(visited, graph, node, parent, goal):\n",
    "    print(\"-----------------------\")\n",
    "    print(\"ACTUAL: \", node)\n",
    "    \n",
    "    if node not in visited and node != goal:\n",
    "        visited.append(node)\n",
    "        \n",
    "        for child in graph[node]:\n",
    "            if child not in visited and child not in queue:\n",
    "                queue.append(child)\n",
    "                parents.append([node, child])\n",
    "        nextItem = subt(queue, visited)\n",
    "\n",
    "        nextId = len(nextItem)-1\n",
    "        nextNode = nextItem[nextId]\n",
    "        print(\"ABIERTOS: \", queue)\n",
    "        print(\"CERRADOS: \", visited)\n",
    "        dfs(visited, graph, nextNode, node, goal)"
   ]
  },
  {
   "cell_type": "code",
   "execution_count": 6,
   "metadata": {},
   "outputs": [
    {
     "name": "stdout",
     "output_type": "stream",
     "text": "-----------------------\nACTUAL:  G\nABIERTOS:  ['F', 'C']\nCERRADOS:  ['G']\n-----------------------\nACTUAL:  C\nABIERTOS:  ['F', 'H', 'D', 'B', 'A']\nCERRADOS:  ['G', 'C']\n-----------------------\nACTUAL:  A\nABIERTOS:  ['F', 'H', 'D', 'B', 'E']\nCERRADOS:  ['G', 'C', 'A']\n-----------------------\nACTUAL:  E\nABIERTOS:  ['F', 'H', 'D', 'B']\nCERRADOS:  ['G', 'C', 'A', 'E']\n-----------------------\nACTUAL:  B\n"
    }
   ],
   "source": [
    "#[parent, child]\n",
    "parents.append(['G', 'G'])\n",
    "dfs(visited, graph, 'G', 'G', 'B')\n",
    "visited.append('B')"
   ]
  },
  {
   "cell_type": "code",
   "execution_count": 7,
   "metadata": {},
   "outputs": [
    {
     "data": {
      "text/plain": "['G', 'C', 'A', 'E', 'B']"
     },
     "execution_count": 7,
     "metadata": {},
     "output_type": "execute_result"
    }
   ],
   "source": [
    "visited"
   ]
  },
  {
   "cell_type": "code",
   "execution_count": 8,
   "metadata": {},
   "outputs": [
    {
     "data": {
      "text/plain": "['F', 'H', 'D', 'B']"
     },
     "execution_count": 8,
     "metadata": {},
     "output_type": "execute_result"
    }
   ],
   "source": [
    "queue"
   ]
  },
  {
   "cell_type": "code",
   "execution_count": 9,
   "metadata": {},
   "outputs": [
    {
     "data": {
      "text/plain": "[['G', 'G'],\n ['G', 'F'],\n ['G', 'C'],\n ['C', 'H'],\n ['C', 'D'],\n ['C', 'B'],\n ['C', 'A'],\n ['A', 'E']]"
     },
     "execution_count": 9,
     "metadata": {},
     "output_type": "execute_result"
    }
   ],
   "source": [
    "parents"
   ]
  },
  {
   "cell_type": "code",
   "execution_count": null,
   "metadata": {},
   "outputs": [],
   "source": []
  }
 ]
}