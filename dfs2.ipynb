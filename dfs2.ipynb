{
 "cells": [
  {
   "cell_type": "code",
   "execution_count": 1,
   "metadata": {},
   "outputs": [],
   "source": [
    "#Universidad Autónoma de Chihuahua\n",
    "# Facultad de Ingeniería\n",
    "# Sistemas de Búsqueda y Razonamiento \n",
    "# Equipo: \n",
    "#   Carlos García\n",
    "#   Alejandro Aguirre\n",
    "#   Ericka Bermúdez\n",
    "\n",
    "# referencias: https://www.educative.io/edpresso/how-to-implement-depth-first-search-in-python"
   ]
  },
  {
   "cell_type": "code",
   "execution_count": 2,
   "metadata": {},
   "outputs": [],
   "source": [
    "graph = {\n",
    "        'A':['E','D','C', 'B'], \n",
    "        'B':['H','C','A'], \n",
    "        'C':['H','G','D','B','A'],\n",
    "        'D':['G','F','E', 'C', 'A'], \n",
    "        'E':['F','D','A'], \n",
    "        'F':['G','E', 'D', 'C'],\n",
    "        'G':['F', 'C'],\n",
    "        'H':['C', 'B']\n",
    "        }"
   ]
  },
  {
   "cell_type": "code",
   "execution_count": 3,
   "metadata": {},
   "outputs": [],
   "source": [
    "visited = [] \n",
    "queue = []\n",
    "parents = {}"
   ]
  },
  {
   "cell_type": "code",
   "execution_count": 4,
   "metadata": {},
   "outputs": [],
   "source": [
    "def subt(queue, visited): \n",
    "    for item in queue: \n",
    "        for item2 in visited: \n",
    "            if item == item2:\n",
    "                queue.remove(item)\n",
    "    return queue"
   ]
  },
  {
   "cell_type": "code",
   "execution_count": 5,
   "metadata": {},
   "outputs": [],
   "source": [
    "def dfs(visited, graph, node, parent, goal):\n",
    "    print(\"-----------------------\")\n",
    "    print(\"ACTUAL: \", node)\n",
    "    \n",
    "    if node not in visited and node != goal:\n",
    "        visited.append(node)\n",
    "        \n",
    "        for child in graph[node]:\n",
    "            if child not in visited and child not in queue:\n",
    "                queue.append(child)\n",
    "                parents[child] = node\n",
    "        nextItem = subt(queue, visited)\n",
    "\n",
    "        nextId = len(nextItem)-1\n",
    "        nextNode = nextItem[nextId]\n",
    "        print(\"ABIERTOS: \", queue)\n",
    "        print(\"CERRADOS: \", visited)\n",
    "        dfs(visited, graph, nextNode, node, goal)"
   ]
  },
  {
   "cell_type": "code",
   "execution_count": 6,
   "metadata": {},
   "outputs": [
    {
     "name": "stdout",
     "output_type": "stream",
     "text": [
      "-----------------------\n",
      "ACTUAL:  G\n",
      "ABIERTOS:  ['F', 'C']\n",
      "CERRADOS:  ['G']\n",
      "-----------------------\n",
      "ACTUAL:  C\n",
      "ABIERTOS:  ['F', 'H', 'D', 'B', 'A']\n",
      "CERRADOS:  ['G', 'C']\n",
      "-----------------------\n",
      "ACTUAL:  A\n",
      "ABIERTOS:  ['F', 'H', 'D', 'B', 'E']\n",
      "CERRADOS:  ['G', 'C', 'A']\n",
      "-----------------------\n",
      "ACTUAL:  E\n",
      "ABIERTOS:  ['F', 'H', 'D', 'B']\n",
      "CERRADOS:  ['G', 'C', 'A', 'E']\n",
      "-----------------------\n",
      "ACTUAL:  B\n"
     ]
    }
   ],
   "source": [
    "#[parent, child]\n",
    "parents['G']='G'\n",
    "dfs(visited, graph, 'G', 'G', 'B')\n",
    "visited.append('B')"
   ]
  },
  {
   "cell_type": "code",
   "execution_count": 7,
   "metadata": {},
   "outputs": [
    {
     "data": {
      "text/plain": [
       "['G', 'C', 'A', 'E', 'B']"
      ]
     },
     "execution_count": 7,
     "metadata": {},
     "output_type": "execute_result"
    }
   ],
   "source": [
    "visited"
   ]
  },
  {
   "cell_type": "code",
   "execution_count": 8,
   "metadata": {},
   "outputs": [
    {
     "data": {
      "text/plain": [
       "['F', 'H', 'D', 'B']"
      ]
     },
     "execution_count": 8,
     "metadata": {},
     "output_type": "execute_result"
    }
   ],
   "source": [
    "queue"
   ]
  },
  {
   "cell_type": "code",
   "execution_count": 9,
   "metadata": {},
   "outputs": [
    {
     "data": {
      "text/plain": [
       "{'G': 'G',\n",
       " 'F': 'G',\n",
       " 'C': 'G',\n",
       " 'H': 'C',\n",
       " 'D': 'C',\n",
       " 'B': 'C',\n",
       " 'A': 'C',\n",
       " 'E': 'A'}"
      ]
     },
     "execution_count": 9,
     "metadata": {},
     "output_type": "execute_result"
    }
   ],
   "source": [
    "parents"
   ]
  },
  {
   "cell_type": "code",
   "execution_count": 10,
   "metadata": {},
   "outputs": [
    {
     "name": "stdout",
     "output_type": "stream",
     "text": [
      "El camino es:\n",
      "['G', 'C', 'B']\n"
     ]
    }
   ],
   "source": [
    "def getPath(visited,parents):\n",
    "    path=[]\n",
    "    aux = visited[len(visited)-1]\n",
    "   \n",
    "    while(aux != parents.get(aux)):\n",
    "        path.append(aux)\n",
    "        aux = parents.get(aux)\n",
    "    path.append(aux)\n",
    "    path.reverse()\n",
    "    print('El camino es:')\n",
    "    print(path)\n",
    "getPath(visited,parents)"
   ]
  },
  {
   "cell_type": "code",
   "execution_count": null,
   "metadata": {},
   "outputs": [],
   "source": []
  },
  {
   "cell_type": "code",
   "execution_count": null,
   "metadata": {},
   "outputs": [],
   "source": []
  }
 ],
 "metadata": {
  "file_extension": ".py",
  "kernelspec": {
   "display_name": "Python 3",
   "language": "python",
   "name": "python3"
  },
  "language_info": {
   "codemirror_mode": {
    "name": "ipython",
    "version": 3
   },
   "file_extension": ".py",
   "mimetype": "text/x-python",
   "name": "python",
   "nbconvert_exporter": "python",
   "pygments_lexer": "ipython3",
   "version": "3.8.2"
  },
  "mimetype": "text/x-python",
  "name": "python",
  "npconvert_exporter": "python",
  "pygments_lexer": "ipython3",
  "version": 3
 },
 "nbformat": 4,
 "nbformat_minor": 4
}
